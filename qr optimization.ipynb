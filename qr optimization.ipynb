{
 "cells": [
  {
   "cell_type": "code",
   "execution_count": 1,
   "metadata": {},
   "outputs": [],
   "source": [
    "import pandas as pd\n",
    "import seaborn as sns\n",
    "import matplotlib.pyplot as plt\n",
    "from sklearn.preprocessing import MinMaxScaler"
   ]
  },
  {
   "cell_type": "code",
   "execution_count": 2,
   "metadata": {},
   "outputs": [
    {
     "name": "stderr",
     "output_type": "stream",
     "text": [
      "C:\\Users\\kobyl\\anaconda3\\lib\\site-packages\\IPython\\core\\interactiveshell.py:3165: DtypeWarning: Columns (6) have mixed types.Specify dtype option on import or set low_memory=False.\n",
      "  has_raised = await self.run_ast_nodes(code_ast.body, cell_name,\n"
     ]
    }
   ],
   "source": [
    "#Import data\n",
    "\n",
    "#Dataset #1\n",
    "games_details = pd.read_csv (\"./data/games_details.csv\")\n",
    "games = pd.read_csv (\"./data/games.csv\")\n",
    "players = pd.read_csv (\"./data/players.csv\")\n",
    "ranking = pd.read_csv (\"./data/ranking.csv\")\n",
    "teams = pd.read_csv (\"./data/teams.csv\")\n",
    "\n",
    "#Dataset #2\n",
    "players_data = pd.read_csv (\"./data/all_seasons.csv\")\n",
    "\n",
    "#Dataset #3\n",
    "draft_data = pd.read_csv (\"./data/NBA_Draft_1980_2017.tsv\", sep = '\\t')"
   ]
  },
  {
   "cell_type": "code",
   "execution_count": 3,
   "metadata": {},
   "outputs": [],
   "source": [
    "players_data = players_data[['draft_round', 'player_height', 'player_weight', 'pts', 'ast', 'oreb_pct', 'dreb_pct', 'usg_pct', 'ts_pct', 'ast_pct']]\n",
    "players_data = players_data.drop(players_data[players_data.draft_round == 'Undrafted'].index)#Remove undrafted\n",
    "players_data['draft_round'] = pd.to_numeric(players_data['draft_round'])"
   ]
  },
  {
   "cell_type": "code",
   "execution_count": 4,
   "metadata": {},
   "outputs": [],
   "source": [
    "#Using dataset #1\n",
    "home = games.iloc[:,7:13]\n",
    "away = games.iloc[:,14:20]\n",
    "home['home'] = 1\n",
    "away['home'] = 0\n",
    "home = home.rename(columns={'PTS_home': 'PTS', 'FG_PCT_home': 'FG_PCT', 'FT_PCT_home': 'FT_PCT', 'FG3_PCT_home': 'FG3_PCT', 'AST_home': 'AST', 'REB_home': 'REB'})\n",
    "away = away.rename(columns={'PTS_away': 'PTS', 'FG_PCT_away': 'FG_PCT', 'FT_PCT_away': 'FT_PCT', 'FG3_PCT_away': 'FG3_PCT', 'AST_away': 'AST', 'REB_away': 'REB'})\n",
    "result = home.append(away, ignore_index=True)\n",
    "\n",
    "#Normalize\n",
    "scaler = MinMaxScaler()\n",
    "result['PTS'] = scaler.fit_transform(result[['PTS']])\n",
    "result['AST'] = scaler.fit_transform(result[['AST']])\n",
    "result['REB'] = scaler.fit_transform(result[['REB']])"
   ]
  },
  {
   "cell_type": "code",
   "execution_count": 5,
   "metadata": {},
   "outputs": [],
   "source": [
    "players_df = pd.read_csv (\"./data/all_seasons.csv\")\n",
    "players_df = players_df.drop(players_df[players_df.draft_round == 'Undrafted'].index)#Remove undrafted\n",
    "players_df['draft_round'] = pd.to_numeric(players_df['draft_round'])"
   ]
  },
  {
   "cell_type": "code",
   "execution_count": 6,
   "metadata": {},
   "outputs": [
    {
     "name": "stdout",
     "output_type": "stream",
     "text": [
      "Mean Squared Error: 88.61\n",
      "R-squared: 0.12\n"
     ]
    }
   ],
   "source": [
    "# Linear Regression Predicting Net Rating\n",
    "from sklearn.tree import DecisionTreeClassifier\n",
    "from sklearn.linear_model import LinearRegression\n",
    "from sklearn.model_selection import train_test_split\n",
    "from sklearn.metrics import mean_squared_error, r2_score\n",
    "\n",
    "# Split the dataset into training and testing sets\n",
    "X = players_df[[\"age\", \"player_height\", \"player_weight\", \"pts\", \"reb\", \"ast\",\"oreb_pct\",\"dreb_pct\",\"usg_pct\",\"ts_pct\",\"ast_pct\"]]\n",
    "y = players_df[\"net_rating\"]\n",
    "X_train, X_test, y_train, y_test = train_test_split(X, y, test_size=0.2)\n",
    "\n",
    "# Fit the linear regression model to the training data\n",
    "reg_model = LinearRegression().fit(X_train, y_train)\n",
    "\n",
    "# Use the model to make predictions on the testing data\n",
    "y_pred = reg_model.predict(X_test)\n",
    "\n",
    "# Calculate the model's performance metrics\n",
    "mse = mean_squared_error(y_test, y_pred)\n",
    "r2 = r2_score(y_test, y_pred)\n",
    "\n",
    "print(f\"Mean Squared Error: {mse:.2f}\")\n",
    "print(f\"R-squared: {r2:.2f}\")"
   ]
  },
  {
   "cell_type": "code",
   "execution_count": 7,
   "metadata": {},
   "outputs": [
    {
     "data": {
      "text/plain": [
       "array([  0.21417762,  -0.05113055,  -0.0480863 ,   0.55992148,\n",
       "        -0.24968542,  -0.28075589,  31.98462897,  14.69650626,\n",
       "       -43.78753428,  36.35439902,  13.94567622])"
      ]
     },
     "execution_count": 7,
     "metadata": {},
     "output_type": "execute_result"
    }
   ],
   "source": [
    "# Linear Regression model coefficients\n",
    "reg_model.coef_"
   ]
  },
  {
   "cell_type": "code",
   "execution_count": 8,
   "metadata": {},
   "outputs": [
    {
     "data": {
      "text/plain": [
       "0      0.210483\n",
       "1     -0.113926\n",
       "2     -0.021666\n",
       "3      0.547688\n",
       "4     -0.175475\n",
       "5     -0.152934\n",
       "6     39.736897\n",
       "7      8.248348\n",
       "8    -41.649097\n",
       "9     32.552083\n",
       "10     9.607842\n",
       "dtype: float64"
      ]
     },
     "execution_count": 8,
     "metadata": {},
     "output_type": "execute_result"
    }
   ],
   "source": [
    "# QR method Linear Regression model coefficients\n",
    "import numpy as np\n",
    "beta_est = np.linalg.inv(X.T @ X) @ X.T @ y\n",
    "beta_est"
   ]
  },
  {
   "cell_type": "code",
   "execution_count": 9,
   "metadata": {},
   "outputs": [
    {
     "data": {
      "text/plain": [
       "array([ 2.10483494e-01, -1.13926027e-01, -2.16662769e-02,  5.47688092e-01,\n",
       "       -1.75474761e-01, -1.52933739e-01,  3.97368974e+01,  8.24834818e+00,\n",
       "       -4.16490975e+01,  3.25520835e+01,  9.60784156e+00])"
      ]
     },
     "execution_count": 9,
     "metadata": {},
     "output_type": "execute_result"
    }
   ],
   "source": [
    "# Use QR method to optimize the Linear Regression model predicting Net Rating\n",
    "Q,R = np.linalg.qr(X)\n",
    "beta_est = np.linalg.inv(R) @ Q.T @ y\n",
    "beta_est"
   ]
  },
  {
   "cell_type": "code",
   "execution_count": 10,
   "metadata": {},
   "outputs": [
    {
     "name": "stdout",
     "output_type": "stream",
     "text": [
      "Mean Squared Error: 93.07\n",
      "R-squared: 0.19\n"
     ]
    }
   ],
   "source": [
    "# Compute new y from QR method Linear Regression\n",
    "y_pred_qr = np.dot(X, beta_est)\n",
    "\n",
    "# Calculate the QR method performance metrics\n",
    "mse = mean_squared_error(y, y_pred_qr)\n",
    "r2 = r2_score(y, y_pred_qr)\n",
    "\n",
    "print(f\"Mean Squared Error: {mse:.2f}\")\n",
    "print(f\"R-squared: {r2:.2f}\")"
   ]
  },
  {
   "cell_type": "code",
   "execution_count": 11,
   "metadata": {},
   "outputs": [
    {
     "name": "stdout",
     "output_type": "stream",
     "text": [
      "Mean Squared Error: 87.21\n",
      "R-squared: 0.13\n"
     ]
    }
   ],
   "source": [
    "# Random Forest Regression Predicting Net Rating\n",
    "from sklearn.ensemble import RandomForestRegressor\n",
    "\n",
    "# Fit a random forest regression model to the training data\n",
    "rf_model = RandomForestRegressor(n_estimators=100, random_state=42).fit(X_train, y_train)\n",
    "\n",
    "# Use the model to make predictions on the testing data\n",
    "y_pred = rf_model.predict(X_test)\n",
    "\n",
    "# Calculate the model's performance metrics\n",
    "mse = mean_squared_error(y_test, y_pred)\n",
    "r2 = r2_score(y_test, y_pred)\n",
    "\n",
    "print(f\"Mean Squared Error: {mse:.2f}\")\n",
    "print(f\"R-squared: {r2:.2f}\")"
   ]
  },
  {
   "cell_type": "code",
   "execution_count": 12,
   "metadata": {},
   "outputs": [
    {
     "name": "stdout",
     "output_type": "stream",
     "text": [
      "Mean Squared Error: 126.34\n",
      "R-squared: -0.26\n"
     ]
    }
   ],
   "source": [
    "# Support Vector Regression Predicting Net Rating\n",
    "from sklearn.svm import SVR\n",
    "\n",
    "# Fit a support vector regression model to the training data\n",
    "svr_model = SVR(kernel='rbf', C=100, gamma=0.1).fit(X_train, y_train)\n",
    "\n",
    "# Use the model to make predictions on the testing data\n",
    "y_pred = svr_model.predict(X_test)\n",
    "\n",
    "# Calculate the model's performance metrics\n",
    "mse = mean_squared_error(y_test, y_pred)\n",
    "r2 = r2_score(y_test, y_pred)\n",
    "\n",
    "print(f\"Mean Squared Error: {mse:.2f}\")\n",
    "print(f\"R-squared: {r2:.2f}\")"
   ]
  },
  {
   "cell_type": "code",
   "execution_count": 13,
   "metadata": {},
   "outputs": [
    {
     "name": "stdout",
     "output_type": "stream",
     "text": [
      "Mean Squared Error: 86.07\n",
      "R-squared: 0.14\n"
     ]
    }
   ],
   "source": [
    "# Gradient Boosting Regression Predicting Net Rating\n",
    "from sklearn.ensemble import GradientBoostingRegressor\n",
    "\n",
    "# Fit a gradient boosting regression model to the training data\n",
    "gb_model = GradientBoostingRegressor(n_estimators=100, learning_rate=0.1, max_depth=3, random_state=42).fit(X_train, y_train)\n",
    "\n",
    "# Use the model to make predictions on the testing data\n",
    "y_pred = gb_model.predict(X_test)\n",
    "\n",
    "# Calculate the model's performance metrics\n",
    "mse = mean_squared_error(y_test, y_pred)\n",
    "r2 = r2_score(y_test, y_pred)\n",
    "\n",
    "print(f\"Mean Squared Error: {mse:.2f}\")\n",
    "print(f\"R-squared: {r2:.2f}\")"
   ]
  },
  {
   "cell_type": "code",
   "execution_count": null,
   "metadata": {},
   "outputs": [],
   "source": []
  },
  {
   "cell_type": "code",
   "execution_count": null,
   "metadata": {},
   "outputs": [],
   "source": []
  },
  {
   "cell_type": "code",
   "execution_count": null,
   "metadata": {},
   "outputs": [],
   "source": []
  },
  {
   "cell_type": "code",
   "execution_count": null,
   "metadata": {},
   "outputs": [],
   "source": []
  }
 ],
 "metadata": {
  "kernelspec": {
   "display_name": "Python 3",
   "language": "python",
   "name": "python3"
  },
  "language_info": {
   "codemirror_mode": {
    "name": "ipython",
    "version": 3
   },
   "file_extension": ".py",
   "mimetype": "text/x-python",
   "name": "python",
   "nbconvert_exporter": "python",
   "pygments_lexer": "ipython3",
   "version": "3.8.8"
  }
 },
 "nbformat": 4,
 "nbformat_minor": 2
}
